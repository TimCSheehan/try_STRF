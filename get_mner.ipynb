{
 "cells": [
  {
   "cell_type": "code",
   "execution_count": null,
   "metadata": {
    "collapsed": true
   },
   "outputs": [],
   "source": []
  },
  {
   "cell_type": "code",
   "execution_count": null,
   "metadata": {
    "collapsed": true
   },
   "outputs": [],
   "source": [
    "# make PSTH\n",
    "\n",
    "song_use = 0\n",
    "# this_ind = song_mask==song_use+1\n",
    "# this_t = song_ramp[this_ind]\n",
    "# plt.hist(this_t)\n",
    "PSTH = get_STA.get_PSTH(spk_times,song_use,song_mask,song_ramp)\n",
    "#plt.hist(tmp)\n",
    "\n",
    "\n",
    "# plt.plot(PSTH)\n",
    "tmp = np.unique(song_ramp[song_mask==song_use+1])\n",
    "np.max(tmp)\n",
    "\n",
    "import get_STA\n",
    "reload(get_STA)\n",
    "#_,_,quick_spect = get_STA.reduced_spectrogram(songs[song_use])\n",
    "window = 20\n",
    "quick_spect = get_STA.flat_reduced_spectrogram(songs[song_use],window)\n",
    "print(np.shape(PSTH),np.shape(quick_spect))\n",
    "quick_spectT = np.transpose(quick_spect)\n",
    "\n",
    "\n",
    "import theano\n",
    "import mner.optimizer\n",
    "import mner.util.util\n",
    "import mner.solvers.solvers\n",
    "import mner.solvers.constraints\n",
    "import mner.solvers.samplers\n",
    "\n",
    "s, s_avg, s_std = mner.util.util.zscore_features(quick_spectT)\n",
    "y = PSTH[window-1:]\n",
    "\n",
    "jack = 1\n",
    "njack = 4\n",
    "\n",
    "# fraction of the data reserved for training and cross-validation (remainder is testing)\n",
    "train_fraction = 0.7\n",
    "cv_fraction = 0.2\n",
    "nsamp = np.shape(s)[0]\n",
    "ndim = np.shape(s)[1]\n",
    "print(np.shape(s),ndim)\n",
    "\n",
    "trainset, cvset, testset, nshift = mner.util.util.generate_dataset_logical_indices(train_fraction, cv_fraction, nsamp, njack)\n",
    "trainset, cvset, testset = mner.util.util.roll_dataset_logical_indices(trainset, cvset, testset, nshift, jack-1)\n",
    "datasets = {'trainset': trainset, 'cvset': cvset, 'testset': testset}\n",
    "\n",
    "# model parameters\n",
    "rank = 6\n",
    "cetype = [\"UV-linear-insert\"]\n",
    "rtype = [\"nuclear-norm\"]\n",
    "\n",
    "# if J is symmetrized using linear constraints, need to set signs of eigenvalues\n",
    "csigns = np.array([1, -1]*(rank/2))\n",
    "\n",
    "# set scaling of cost function (for each data set)\n",
    "fscale = {\"trainset\": -1, \"cvset\": -1, \"testset\": -1}\n",
    "\n",
    "# choose solver\n",
    "#solver = mner.solvers.solvers.IPMSolver\n",
    "solver = mner.solvers.solvers.LBFGSSolver\n",
    "\n",
    "# fit parameters (note the change for demo_type == 7 below)\n",
    "factr = 1.0e10\n",
    "lbfgs = 30\n",
    "\n",
    "\n",
    "  opt = mner.optimizer.Optimizer(y, s, rank, cetype=cetype, rtype=[], solver=solver, datasets=datasets, fscale=fscale, csigns=csigns, lbfgs=lbfgs, precompile=True, compute_hess=False, verbosity=2, iprint=1, factr=factr)\n",
    "\n",
    "\n",
    "x, ftrain = opt.optimize()\n",
    "\n",
    "a, h, U, V = mner.util.util.vec_to_weights(x, ndim, rank)\n",
    "V = np.dot(U, np.diag(csigns))\n",
    "\n",
    "# form J and symmetrize then compute components\n",
    "Jsym = np.dot(U, V.T)\n",
    "Jsym = 0.5*(Jsym + Jsym.T)\n",
    "[u, _, _] = np.linalg.svd(Jsym)\n",
    "\n",
    "nx = 20\n",
    "ny = 16\n",
    "cm = .2\n",
    "plt.imshow(np.reshape(u[:,1], (ny, nx)), aspect='equal', interpolation='none',clim=(-cm, cm))\n",
    "#plt.colorbar()"
   ]
  },
  {
   "cell_type": "code",
   "execution_count": null,
   "metadata": {
    "collapsed": true
   },
   "outputs": [],
   "source": []
  }
 ],
 "metadata": {
  "kernelspec": {
   "display_name": "Python 2",
   "language": "python",
   "name": "python2"
  },
  "language_info": {
   "codemirror_mode": {
    "name": "ipython",
    "version": 2
   },
   "file_extension": ".py",
   "mimetype": "text/x-python",
   "name": "python",
   "nbconvert_exporter": "python",
   "pygments_lexer": "ipython2",
   "version": "2.7.14"
  }
 },
 "nbformat": 4,
 "nbformat_minor": 2
}
