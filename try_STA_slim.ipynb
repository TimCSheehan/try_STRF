{
 "cells": [
  {
   "cell_type": "code",
   "execution_count": 1,
   "metadata": {
    "collapsed": true
   },
   "outputs": [],
   "source": [
    "import numpy as np\n",
    "#import seaborn as sns\n",
    "import matplotlib.pyplot as plt\n",
    "import matplotlib\n",
    "%matplotlib inline\n",
    "block_path = '/home/AD/tsheehan/data/Pen01_Lft_AP750_ML1750__Site01_Z1100__B952_cat_P01_S01_1'\n",
    "from ephys import core\n",
    "from ephys import clust\n",
    "from ephys import events\n",
    "from ephys import rasters\n",
    "import os\n",
    "import scipy as sp\n",
    "import scipy.io.wavfile as wf\n",
    "import scipy.signal as signal\n",
    "#import pywt # wavelet toolbox"
   ]
  },
  {
   "cell_type": "code",
   "execution_count": 2,
   "metadata": {
    "collapsed": true
   },
   "outputs": [],
   "source": [
    "font = {'family' : 'normal',\n",
    "        'weight' : 'bold',\n",
    "        'size'   : 22}\n",
    "\n",
    "matplotlib.rc('font', **font)"
   ]
  },
  {
   "cell_type": "code",
   "execution_count": 3,
   "metadata": {
    "collapsed": true
   },
   "outputs": [],
   "source": [
    "# want to get STA and STC for example dataset\n",
    "# load response (neurons), stimulus (wav files to spectrograms)\n",
    "clusters = core.load_clusters(block_path) # pandas - DataFrame\n",
    "neurons = (\n",
    "    clusters[clusters.quality.isin(['Good'])]\n",
    "    .sort_values(['quality','cluster'],ascending=False)\n",
    "    .reset_index()\n",
    ")\n",
    "trials = events.load_trials(block_path)\n",
    "stim_labels = list(set(trials.stimulus))\n",
    "spikes = core.load_spikes(block_path)\n"
   ]
  },
  {
   "cell_type": "code",
   "execution_count": 5,
   "metadata": {},
   "outputs": [
    {
     "name": "stdout",
     "output_type": "stream",
     "text": [
      "2892045\n",
      "2961304\n",
      "2674358\n",
      "2400000\n",
      "2400000\n"
     ]
    }
   ],
   "source": [
    "fs = 44100\n",
    "stim_labels[0]\n",
    "stim_loc = block_path + '/stims'\n",
    "files = os.listdir(stim_loc)\n",
    "songs = []\n",
    "spects = []\n",
    "freqs = []\n",
    "times = []\n",
    "noverlap = 512\n",
    "nperseg = 1024\n",
    "\n",
    "for i in range(len(stim_labels)):\n",
    "    this_label = stim_labels[i] +'.wav'\n",
    "    my_song = [x for x in files if x in this_label]\n",
    "    if my_song:\n",
    "        this_song = wf.read(stim_loc + '/' + my_song[0])\n",
    "        songs.append((this_song[1]))    \n",
    "    \n",
    "    my_spect = signal.spectrogram(songs[i],fs =fs, nperseg = nperseg,noverlap = noverlap)\n",
    "    spects.append(my_spect[2])\n",
    "    freqs.append(my_spect[0])\n",
    "    times.append(my_spect[1])\n",
    "    \n",
    "    print(len(this_song[1]))"
   ]
  },
  {
   "cell_type": "code",
   "execution_count": 6,
   "metadata": {
    "scrolled": true
   },
   "outputs": [
    {
     "name": "stdout",
     "output_type": "stream",
     "text": [
      "(2892045, 3227, 896)\n",
      "(2961304, 3304, 896)\n",
      "(2674358, 2984, 896)\n",
      "(2400000, 2678, 896)\n",
      "(2400000, 2678, 896)\n"
     ]
    }
   ],
   "source": [
    "import get_STA\n",
    "reload(get_STA)\n",
    "stim_use = 2\n",
    "neuron_ind = 12\n",
    "this_label = stim_labels[stim_use]\n",
    "these_trials = trials[trials['stimulus']==this_label]\n",
    "this_st = these_trials['time_samples'].values\n",
    "this_end = these_trials['stimulus_end'].values\n",
    "dd = this_end-this_st\n",
    "\n",
    "my_cluster = neurons['cluster'][neuron_ind]\n",
    "my_spikes = spikes[spikes['cluster']==my_cluster]\n",
    "my_times = my_spikes['time_samples']\n",
    "\n",
    "#get_STA_p.get_STA_from_points(my_times,this_end,dd[0],songs[stim_use],50)\n",
    "#tmp  = get_STA_p.get_STA_mult_song(my_times,songs,trials)\n",
    "#get_STA_p.plot_STA_mult_song(my_times,songs,trials,[],1)\n",
    "\n",
    "#get_STA_p.plot_STA_mult_neuron(neurons,spikes,songs,trials,40)\n",
    "s_view = 2\n",
    "c_lim = (-60,60)\n",
    "#get_STA_p.visualize_reduced_spectrogram(songs[s_view],c_lim)\n",
    "#get_STA_p.visualize_full_spectrogram(songs[s_view],c_lim)\n",
    "ratio = get_STA.get_ds_rate(songs)\n",
    "spk_times = my_spikes['time_samples'].values\n"
   ]
  },
  {
   "cell_type": "code",
   "execution_count": 105,
   "metadata": {},
   "outputs": [
    {
     "name": "stdout",
     "output_type": "stream",
     "text": [
      "(30472, 16, 50)\n"
     ]
    },
    {
     "data": {
      "image/png": "[encoded data removed]",
      "text/plain": [
       "<matplotlib.figure.Figure at 0x7f9633c49750>"
      ]
     },
     "metadata": {},
     "output_type": "display_data"
    }
   ],
   "source": [
    "import get_STA\n",
    "reload(get_STA)\n",
    "song_names = list(set(trials['stimulus']))\n",
    "song_mask, song_ramp = get_STA.get_song_mask(trials,ratio/2)\n",
    "\n",
    "\n",
    "STA,f = get_STA.get_sta(spk_times,songs,song_mask,song_ramp,50)\n",
    "mSTA = np.mean(STA,0)\n",
    "plt.imshow(mSTA)\n",
    "print(np.shape(STA))\n",
    "#STA[1]\n",
    "#ind = 1000\n",
    "#print(np.shape(STA[ind]),STA[ind])\n",
    "# STA"
   ]
  },
  {
   "cell_type": "code",
   "execution_count": 106,
   "metadata": {},
   "outputs": [
    {
     "data": {
      "image/png": "[encoded data removed]",
      "text/plain": [
       "<matplotlib.figure.Figure at 0x7f962ea3a090>"
      ]
     },
     "metadata": {},
     "output_type": "display_data"
    }
   ],
   "source": [
    "import get_STA\n",
    "reload(get_STA)\n",
    "get_STA.visualize_some_stas(neurons,spikes,songs,song_mask,song_ramp,20)\n"
   ]
  },
  {
   "cell_type": "code",
   "execution_count": 77,
   "metadata": {},
   "outputs": [
    {
     "data": {
      "text/plain": [
       "5"
      ]
     },
     "execution_count": 77,
     "metadata": {},
     "output_type": "execute_result"
    }
   ],
   "source": [
    "np.abs(-5)"
   ]
  },
  {
   "cell_type": "code",
   "execution_count": 74,
   "metadata": {},
   "outputs": [
    {
     "name": "stdout",
     "output_type": "stream",
     "text": [
      "3227\n"
     ]
    },
    {
     "ename": "KeyboardInterrupt",
     "evalue": "",
     "output_type": "error",
     "traceback": [
      "\u001b[0;31m---------------------------------------------------------------------------\u001b[0m",
      "\u001b[0;31mKeyboardInterrupt\u001b[0m                         Traceback (most recent call last)",
      "\u001b[0;32m<ipython-input-74-0ccfae54ea9c>\u001b[0m in \u001b[0;36m<module>\u001b[0;34m()\u001b[0m\n\u001b[1;32m      1\u001b[0m \u001b[0msong_use\u001b[0m \u001b[0;34m=\u001b[0m \u001b[0;36m0\u001b[0m\u001b[0;34m\u001b[0m\u001b[0m\n\u001b[0;32m----> 2\u001b[0;31m \u001b[0mPSTH\u001b[0m \u001b[0;34m=\u001b[0m \u001b[0mget_STA\u001b[0m\u001b[0;34m.\u001b[0m\u001b[0mget_PSTH\u001b[0m\u001b[0;34m(\u001b[0m\u001b[0mspk_times\u001b[0m\u001b[0;34m,\u001b[0m\u001b[0msong_use\u001b[0m\u001b[0;34m,\u001b[0m\u001b[0msong_mask\u001b[0m\u001b[0;34m,\u001b[0m\u001b[0msong_ramp\u001b[0m\u001b[0;34m)\u001b[0m\u001b[0;34m\u001b[0m\u001b[0m\n\u001b[0m\u001b[1;32m      3\u001b[0m \u001b[0;34m\u001b[0m\u001b[0m\n\u001b[1;32m      4\u001b[0m \u001b[0mtmp\u001b[0m \u001b[0;34m=\u001b[0m \u001b[0mnp\u001b[0m\u001b[0;34m.\u001b[0m\u001b[0munique\u001b[0m\u001b[0;34m(\u001b[0m\u001b[0msong_ramp\u001b[0m\u001b[0;34m[\u001b[0m\u001b[0msong_mask\u001b[0m\u001b[0;34m==\u001b[0m\u001b[0msong_use\u001b[0m\u001b[0;34m+\u001b[0m\u001b[0;36m1\u001b[0m\u001b[0;34m]\u001b[0m\u001b[0;34m)\u001b[0m\u001b[0;34m\u001b[0m\u001b[0m\n\u001b[1;32m      5\u001b[0m \u001b[0mnp\u001b[0m\u001b[0;34m.\u001b[0m\u001b[0mmax\u001b[0m\u001b[0;34m(\u001b[0m\u001b[0mtmp\u001b[0m\u001b[0;34m)\u001b[0m\u001b[0;34m\u001b[0m\u001b[0m\n",
      "\u001b[0;32m/home/AD/tsheehan/code/STRF/get_STA.py\u001b[0m in \u001b[0;36mget_PSTH\u001b[0;34m(spike_times, song_use, song_mask, song_ramp)\u001b[0m\n\u001b[1;32m    184\u001b[0m         \u001b[0;32mprint\u001b[0m\u001b[0;34m(\u001b[0m\u001b[0mlen_song\u001b[0m\u001b[0;34m)\u001b[0m\u001b[0;34m\u001b[0m\u001b[0m\n\u001b[1;32m    185\u001b[0m         \u001b[0;32mfor\u001b[0m \u001b[0mi\u001b[0m \u001b[0;32min\u001b[0m \u001b[0mrange\u001b[0m\u001b[0;34m(\u001b[0m\u001b[0mlen_song\u001b[0m\u001b[0;34m)\u001b[0m\u001b[0;34m:\u001b[0m\u001b[0;34m\u001b[0m\u001b[0m\n\u001b[0;32m--> 186\u001b[0;31m                 \u001b[0mPSTH\u001b[0m\u001b[0;34m[\u001b[0m\u001b[0mi\u001b[0m\u001b[0;34m]\u001b[0m\u001b[0;34m=\u001b[0m \u001b[0msum\u001b[0m\u001b[0;34m(\u001b[0m\u001b[0mgood_t\u001b[0m\u001b[0;34m==\u001b[0m\u001b[0mi\u001b[0m\u001b[0;34m)\u001b[0m\u001b[0;34m\u001b[0m\u001b[0m\n\u001b[0m\u001b[1;32m    187\u001b[0m         \u001b[0mPSTH\u001b[0m \u001b[0;34m=\u001b[0m \u001b[0mPSTH\u001b[0m\u001b[0;34m/\u001b[0m\u001b[0mnp\u001b[0m\u001b[0;34m.\u001b[0m\u001b[0mmax\u001b[0m\u001b[0;34m(\u001b[0m\u001b[0mPSTH\u001b[0m\u001b[0;34m)\u001b[0m\u001b[0;34m\u001b[0m\u001b[0m\n\u001b[1;32m    188\u001b[0m         \u001b[0;32mreturn\u001b[0m \u001b[0mPSTH\u001b[0m\u001b[0;34m\u001b[0m\u001b[0m\n",
      "\u001b[0;31mKeyboardInterrupt\u001b[0m: "
     ]
    }
   ],
   "source": [
    "song_use = 0\n",
    "PSTH = get_STA.get_PSTH(spk_times,song_use,song_mask,song_ramp)\n",
    "\n",
    "tmp = np.unique(song_ramp[song_mask==song_use+1])\n",
    "np.max(tmp)"
   ]
  },
  {
   "cell_type": "code",
   "execution_count": 40,
   "metadata": {},
   "outputs": [
    {
     "name": "stdout",
     "output_type": "stream",
     "text": [
      "(3212, 256)\n",
      "((3227,), (256, 3212))\n"
     ]
    }
   ],
   "source": [
    "window = 16\n",
    "quick_spect = get_STA.flat_reduced_spectrogram(songs[song_use],window)\n",
    "print(np.shape(PSTH),np.shape(quick_spect))\n",
    "quick_spectT = np.transpose(quick_spect)"
   ]
  },
  {
   "cell_type": "code",
   "execution_count": 57,
   "metadata": {},
   "outputs": [
    {
     "name": "stdout",
     "output_type": "stream",
     "text": [
      "((3212, 256), 256)\n"
     ]
    }
   ],
   "source": [
    "import theano\n",
    "import mner.optimizer\n",
    "import mner.util.util\n",
    "import mner.solvers.solvers\n",
    "import mner.solvers.constraints\n",
    "import mner.solvers.samplers\n",
    "\n",
    "s, s_avg, s_std = mner.util.util.zscore_features(quick_spectT)\n",
    "y = PSTH[window-1:]\n",
    "\n",
    "jack = 1\n",
    "njack = 4\n",
    "\n",
    "# fraction of the data reserved for training and cross-validation (remainder is testing)\n",
    "train_fraction = 0.7\n",
    "cv_fraction = 0.2\n",
    "nsamp = np.shape(s)[0]\n",
    "ndim = np.shape(s)[1]\n",
    "print(np.shape(s),ndim)\n",
    "\n",
    "trainset, cvset, testset, nshift = mner.util.util.generate_dataset_logical_indices(train_fraction, cv_fraction, nsamp, njack)\n",
    "trainset, cvset, testset = mner.util.util.roll_dataset_logical_indices(trainset, cvset, testset, nshift, jack-1)\n",
    "datasets = {'trainset': trainset, 'cvset': cvset, 'testset': testset}\n",
    "\n",
    "# model parameters\n",
    "rank = 4\n",
    "cetype = [\"UV-linear-insert\"]\n",
    "rtype = [\"nuclear-norm\"]\n",
    "\n",
    "# if J is symmetrized using linear constraints, need to set signs of eigenvalues\n",
    "csigns = np.array([1, -1]*(rank/2))\n",
    "\n",
    "# set scaling of cost function (for each data set)\n",
    "fscale = {\"trainset\": -1, \"cvset\": -1, \"testset\": -1}\n",
    "\n",
    "# choose solver\n",
    "#solver = mner.solvers.solvers.IPMSolver\n",
    "solver = mner.solvers.solvers.LBFGSSolver\n",
    "\n",
    "# fit parameters (note the change for demo_type == 7 below)\n",
    "factr = 1.0e10\n",
    "lbfgs = 30\n",
    "\n",
    "\n",
    "opt = mner.optimizer.Optimizer(y, s, rank, cetype=cetype, rtype=[], solver=solver, datasets=datasets, fscale=fscale, csigns=csigns, lbfgs=lbfgs, precompile=True, compute_hess=False, verbosity=2, iprint=1, factr=factr)\n",
    "\n",
    "\n",
    "x, ftrain = opt.optimize()"
   ]
  },
  {
   "cell_type": "code",
   "execution_count": 58,
   "metadata": {
    "collapsed": true
   },
   "outputs": [],
   "source": [
    "a, h, U, V = mner.util.util.vec_to_weights(x, ndim, rank)\n",
    "#J_real = np.matmul(U,V.T)\n",
    "V = np.dot(U, np.diag(csigns))\n",
    "\n",
    "# form J and symmetrize then compute components\n",
    "Jsym = np.dot(U, V.T)\n",
    "Jsym = 0.5*(Jsym + Jsym.T)\n",
    "[u, _, _] = np.linalg.svd(Jsym)"
   ]
  },
  {
   "cell_type": "code",
   "execution_count": 62,
   "metadata": {},
   "outputs": [
    {
     "name": "stdout",
     "output_type": "stream",
     "text": [
      "((1281,), (3212,), (3212, 256))\n"
     ]
    },
    {
     "data": {
      "image/png": "[encoded data removed]",
      "text/plain": [
       "<matplotlib.figure.Figure at 0x7fdb59df7250>"
      ]
     },
     "metadata": {},
     "output_type": "display_data"
    }
   ],
   "source": [
    "nx = window\n",
    "ny = 16\n",
    "cm = .2\n",
    "plt.imshow(np.reshape(u[:,10], (ny, nx)), aspect='equal', interpolation='none',clim=(-cm, cm))\n",
    "print(np.shape(x),np.shape(y),np.shape(s))\n",
    "\n",
    "#plt.colorbar()"
   ]
  },
  {
   "cell_type": "code",
   "execution_count": 17,
   "metadata": {},
   "outputs": [
    {
     "name": "stdout",
     "output_type": "stream",
     "text": [
      "[[ 1  0  0  0  0  0]\n",
      " [ 0 -1  0  0  0  0]\n",
      " [ 0  0  1  0  0  0]\n",
      " [ 0  0  0 -1  0  0]\n",
      " [ 0  0  0  0  1  0]\n",
      " [ 0  0  0  0  0 -1]]\n"
     ]
    }
   ],
   "source": [
    "print(np.diag(csigns))"
   ]
  },
  {
   "cell_type": "code",
   "execution_count": 63,
   "metadata": {},
   "outputs": [
    {
     "name": "stdout",
     "output_type": "stream",
     "text": [
      "((256, 4), ())\n"
     ]
    },
    {
     "ename": "TypeError",
     "evalue": "Object arrays are not currently supported",
     "output_type": "error",
     "traceback": [
      "\u001b[0;31m---------------------------------------------------------------------------\u001b[0m",
      "\u001b[0;31mTypeError\u001b[0m                                 Traceback (most recent call last)",
      "\u001b[0;32m<ipython-input-63-a3a3b8aaa730>\u001b[0m in \u001b[0;36m<module>\u001b[0;34m()\u001b[0m\n\u001b[1;32m      2\u001b[0m \u001b[0mtmp\u001b[0m\u001b[0;34m=\u001b[0m \u001b[0mnp\u001b[0m\u001b[0;34m.\u001b[0m\u001b[0mtranspose\u001b[0m\u001b[0;34m(\u001b[0m\u001b[0mV\u001b[0m\u001b[0;34m)\u001b[0m\u001b[0;34m\u001b[0m\u001b[0m\n\u001b[1;32m      3\u001b[0m \u001b[0;32mprint\u001b[0m\u001b[0;34m(\u001b[0m\u001b[0mnp\u001b[0m\u001b[0;34m.\u001b[0m\u001b[0mshape\u001b[0m\u001b[0;34m(\u001b[0m\u001b[0mU\u001b[0m\u001b[0;34m)\u001b[0m\u001b[0;34m,\u001b[0m\u001b[0mnp\u001b[0m\u001b[0;34m.\u001b[0m\u001b[0mshape\u001b[0m\u001b[0;34m(\u001b[0m\u001b[0mV\u001b[0m\u001b[0;34m)\u001b[0m\u001b[0;34m)\u001b[0m\u001b[0;34m\u001b[0m\u001b[0m\n\u001b[0;32m----> 4\u001b[0;31m \u001b[0mJ_real\u001b[0m \u001b[0;34m=\u001b[0m \u001b[0mnp\u001b[0m\u001b[0;34m.\u001b[0m\u001b[0mmatmul\u001b[0m\u001b[0;34m(\u001b[0m\u001b[0mU\u001b[0m\u001b[0;34m,\u001b[0m\u001b[0mtmp\u001b[0m\u001b[0;34m)\u001b[0m\u001b[0;34m\u001b[0m\u001b[0m\n\u001b[0m",
      "\u001b[0;31mTypeError\u001b[0m: Object arrays are not currently supported"
     ]
    }
   ],
   "source": [
    "a, h, U, V = mner.util.util.vec_to_weights(x, ndim, rank)\n",
    "tmp= np.transpose(V)\n",
    "print(np.shape(U),np.shape(V))\n",
    "J_real = np.matmul(U,tmp)"
   ]
  },
  {
   "cell_type": "code",
   "execution_count": null,
   "metadata": {
    "collapsed": true
   },
   "outputs": [],
   "source": []
  }
 ],
 "metadata": {
  "kernelspec": {
   "display_name": "Python 2",
   "language": "python",
   "name": "python2"
  },
  "language_info": {
   "codemirror_mode": {
    "name": "ipython",
    "version": 2
   },
   "file_extension": ".py",
   "mimetype": "text/x-python",
   "name": "python",
   "nbconvert_exporter": "python",
   "pygments_lexer": "ipython2",
   "version": "2.7.14"
  }
 },
 "nbformat": 4,
 "nbformat_minor": 2
}
