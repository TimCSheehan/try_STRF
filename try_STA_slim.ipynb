{
 "cells": [
  {
   "cell_type": "code",
   "execution_count": 1,
   "metadata": {
    "collapsed": true
   },
   "outputs": [],
   "source": [
    "import numpy as np\n",
    "#import seaborn as sns\n",
    "import matplotlib.pyplot as plt\n",
    "import matplotlib\n",
    "%matplotlib inline\n",
    "block_path = '/home/AD/tsheehan/data/Pen01_Lft_AP750_ML1750__Site01_Z1100__B952_cat_P01_S01_1'\n",
    "from ephys import core\n",
    "from ephys import clust\n",
    "from ephys import events\n",
    "from ephys import rasters\n",
    "import os\n",
    "import scipy as sp\n",
    "import scipy.io.wavfile as wf\n",
    "import scipy.signal as signal\n",
    "#import pywt # wavelet toolbox"
   ]
  },
  {
   "cell_type": "code",
   "execution_count": 2,
   "metadata": {
    "collapsed": true
   },
   "outputs": [],
   "source": [
    "font = {'family' : 'normal',\n",
    "        'weight' : 'bold',\n",
    "        'size'   : 22}\n",
    "\n",
    "matplotlib.rc('font', **font)"
   ]
  },
  {
   "cell_type": "code",
   "execution_count": 3,
   "metadata": {
    "collapsed": true
   },
   "outputs": [],
   "source": [
    "# want to get STA and STC for example dataset\n",
    "# load response (neurons), stimulus (wav files to spectrograms)\n",
    "clusters = core.load_clusters(block_path) # pandas - DataFrame\n",
    "neurons = (\n",
    "    clusters[clusters.quality.isin(['Good'])]\n",
    "    .sort_values(['quality','cluster'],ascending=False)\n",
    "    .reset_index()\n",
    ")\n",
    "trials = events.load_trials(block_path)\n",
    "stim_labels = list(set(trials.stimulus))\n",
    "spikes = core.load_spikes(block_path)\n"
   ]
  },
  {
   "cell_type": "code",
   "execution_count": 4,
   "metadata": {},
   "outputs": [
    {
     "name": "stdout",
     "output_type": "stream",
     "text": [
      "2892045\n",
      "2961304\n",
      "2674358\n",
      "2400000\n",
      "2400000\n"
     ]
    }
   ],
   "source": [
    "fs = 44100\n",
    "stim_labels[0]\n",
    "stim_loc = block_path + '/stims'\n",
    "files = os.listdir(stim_loc)\n",
    "songs = []\n",
    "spects = []\n",
    "freqs = []\n",
    "times = []\n",
    "noverlap = 512\n",
    "nperseg = 1024\n",
    "\n",
    "for i in range(len(stim_labels)):\n",
    "    this_label = stim_labels[i] +'.wav'\n",
    "    my_song = [x for x in files if x in this_label]\n",
    "    if my_song:\n",
    "        this_song = wf.read(stim_loc + '/' + my_song[0])\n",
    "        songs.append((this_song[1]))    \n",
    "    \n",
    "    my_spect = signal.spectrogram(songs[i],fs =fs, nperseg = nperseg,noverlap = noverlap)\n",
    "    spects.append(my_spect[2])\n",
    "    freqs.append(my_spect[0])\n",
    "    times.append(my_spect[1])\n",
    "    \n",
    "    print(len(this_song[1]))"
   ]
  },
  {
   "cell_type": "code",
   "execution_count": null,
   "metadata": {
    "collapsed": true,
    "scrolled": true
   },
   "outputs": [],
   "source": []
  },
  {
   "cell_type": "code",
   "execution_count": 5,
   "metadata": {
    "collapsed": true
   },
   "outputs": [],
   "source": [
    "stim_ind= 0\n",
    "start_time = trials[trials.stimulus==stim_labels[stim_ind]].time_samples\n",
    "end_time = trials[trials.stimulus==stim_labels[stim_ind]].stimulus_end\n",
    "\n",
    "fs = core.load_fs(block_path)"
   ]
  },
  {
   "cell_type": "code",
   "execution_count": 6,
   "metadata": {
    "collapsed": true
   },
   "outputs": [],
   "source": [
    "labels = trials['stimulus']\n",
    "neuron_ind = 2\n",
    "my_cluster = neurons['cluster'][neuron_ind]\n",
    "my_spikes = spikes[spikes['cluster']==my_cluster]\n",
    "my_times = my_spikes['time_samples']\n",
    "trials.head()\n",
    "len_all = trials['stimulus_end'].values[-1]\n",
    "my_times = my_times[my_times<=len_all]\n",
    "\n",
    "\n"
   ]
  },
  {
   "cell_type": "code",
   "execution_count": 53,
   "metadata": {
    "scrolled": true
   },
   "outputs": [],
   "source": [
    "import get_STA as get_STA_p\n",
    "reload(get_STA_p)\n",
    "stim_use = 2\n",
    "neuron_ind = 12\n",
    "this_label = stim_labels[stim_use]\n",
    "these_trials = trials[trials['stimulus']==this_label]\n",
    "this_st = these_trials['time_samples'].values\n",
    "this_end = these_trials['stimulus_end'].values\n",
    "dd = this_end-this_st\n",
    "\n",
    "\n",
    "my_cluster = neurons['cluster'][neuron_ind]\n",
    "my_spikes = spikes[spikes['cluster']==my_cluster]\n",
    "my_times = my_spikes['time_samples']\n",
    "\n",
    "#get_STA_p.get_STA_from_points(my_times,this_end,dd[0],songs[stim_use],50)\n",
    "#tmp  = get_STA_p.get_STA_mult_song(my_times,songs,trials)\n",
    "#get_STA_p.plot_STA_mult_song(my_times,songs,trials,[],1)\n",
    "#songs[1]\n",
    "#neurons\n",
    "#get_STA_p.plot_STA_mult_neuron(neurons,spikes,songs,trials,40)\n",
    "s_view = 2\n",
    "c_lim = (-60,60)\n",
    "#get_STA_p.visualize_reduced_spectrogram(songs[s_view],c_lim)\n",
    "#get_STA_p.visualize_full_spectrogram(songs[s_view],c_lim)\n",
    "#ratio = get_STA_p.get_ds_rate(songs)\n"
   ]
  },
  {
   "cell_type": "code",
   "execution_count": 48,
   "metadata": {},
   "outputs": [
    {
     "ename": "ValueError",
     "evalue": "need more than 0 values to unpack",
     "output_type": "error",
     "traceback": [
      "\u001b[0;31m---------------------------------------------------------------------------\u001b[0m",
      "\u001b[0;31mValueError\u001b[0m                                Traceback (most recent call last)",
      "\u001b[0;32m<ipython-input-48-a3ee573f7dfd>\u001b[0m in \u001b[0;36m<module>\u001b[0;34m()\u001b[0m\n\u001b[1;32m      1\u001b[0m \u001b[0;31m# def song_mask(trials):\u001b[0m\u001b[0;34m\u001b[0m\u001b[0;34m\u001b[0m\u001b[0m\n\u001b[1;32m      2\u001b[0m \u001b[0;31m#     songs =\u001b[0m\u001b[0;34m\u001b[0m\u001b[0;34m\u001b[0m\u001b[0m\n\u001b[0;32m----> 3\u001b[0;31m \u001b[0msong_mask\u001b[0m \u001b[0;34m=\u001b[0m \u001b[0;34m[\u001b[0m\u001b[0;34m]\u001b[0m\u001b[0;34m,\u001b[0m \u001b[0mtmp\u001b[0m \u001b[0;34m=\u001b[0m \u001b[0;34m[\u001b[0m\u001b[0;34m]\u001b[0m\u001b[0;34m\u001b[0m\u001b[0m\n\u001b[0m\u001b[1;32m      4\u001b[0m \u001b[0msong_names\u001b[0m \u001b[0;34m=\u001b[0m \u001b[0mlist\u001b[0m\u001b[0;34m(\u001b[0m\u001b[0mset\u001b[0m\u001b[0;34m(\u001b[0m\u001b[0mtrials\u001b[0m\u001b[0;34m[\u001b[0m\u001b[0;34m'stimulus'\u001b[0m\u001b[0;34m]\u001b[0m\u001b[0;34m)\u001b[0m\u001b[0;34m)\u001b[0m\u001b[0;34m\u001b[0m\u001b[0m\n\u001b[1;32m      5\u001b[0m \u001b[0msong_mask\u001b[0m\u001b[0;34m,\u001b[0m \u001b[0mtmp\u001b[0m\u001b[0;34m=\u001b[0m \u001b[0mget_STA_p\u001b[0m\u001b[0;34m.\u001b[0m\u001b[0mget_song_mask\u001b[0m\u001b[0;34m(\u001b[0m\u001b[0mtrials\u001b[0m\u001b[0;34m,\u001b[0m\u001b[0mratio\u001b[0m\u001b[0;34m)\u001b[0m\u001b[0;34m\u001b[0m\u001b[0m\n",
      "\u001b[0;31mValueError\u001b[0m: need more than 0 values to unpack"
     ]
    }
   ],
   "source": [
    "# def song_mask(trials):\n",
    "#     songs = \n",
    "song_names = list(set(trials['stimulus']))\n",
    "song_mask, tmp= get_STA_p.get_song_mask(trials,ratio)\n",
    "plt.hist(tmp)\n",
    "\n",
    "#plt.hist(song_mask,(np.linspace(0,4.5,10)));\n",
    "#print(ratio)\n",
    "#song_mask"
   ]
  },
  {
   "cell_type": "code",
   "execution_count": 54,
   "metadata": {},
   "outputs": [
    {
     "name": "stdout",
     "output_type": "stream",
     "text": [
      "Variable       Type         Data/Info\n",
      "-------------------------------------\n",
      "all_time       int64        143154772\n",
      "block_path     str          /home/AD/tsheehan/data/Pe<...>Z1100__B952_cat_P01_S01_1\n",
      "c_lim          tuple        n=2\n",
      "clust          module       <module 'ephys.clust' fro<...>nalysis/ephys/clust.pyc'>\n",
      "clusters       DataFrame        cluster   quality\\n0 <...>UA\\n43       67       MUA\n",
      "core           module       <module 'ephys.core' from<...>analysis/ephys/core.pyc'>\n",
      "dd             ndarray      20: 20 elems, type `int64`, 160 bytes\n",
      "end_time       Series       7      11669902\\n11     1<...>timulus_end, dtype: int64\n",
      "events         module       <module 'ephys.events' fr<...>alysis/ephys/events.pyc'>\n",
      "files          list         n=18\n",
      "font           dict         n=3\n",
      "freqs          list         n=5\n",
      "fs             float64      20000.0\n",
      "get_STA_p      module       <module 'get_STA' from 'get_STA.pyc'>\n",
      "i              int          4\n",
      "labels         Series       0     m_211_s_25_song_60s<...>ength: 100, dtype: object\n",
      "len_all        int64        143154772\n",
      "matplotlib     module       <module 'matplotlib' from<...>matplotlib/__init__.pyc'>\n",
      "my_cluster     int32        3\n",
      "my_song        list         n=1\n",
      "my_spect       tuple        n=3\n",
      "my_spikes      DataFrame            cluster  recordin<...>n[32264 rows x 3 columns]\n",
      "my_times       Series       21             8537\\n23  <...>gth: 32264, dtype: uint64\n",
      "neuron_ind     int          12\n",
      "neurons        DataFrame        index  cluster qualit<...>2      1        3    Good\n",
      "noverlap       int          512\n",
      "np             module       <module 'numpy' from '/ho<...>ages/numpy/__init__.pyc'>\n",
      "nperseg        int          1024\n",
      "os             module       <module 'os' from '/home/<...>ne/lib/python2.7/os.pyc'>\n",
      "plt            module       <module 'matplotlib.pyplo<...>s/matplotlib/pyplot.pyc'>\n",
      "rasters        module       <module 'ephys.rasters' f<...>lysis/ephys/rasters.pyc'>\n",
      "ratio          int64        896\n",
      "s_view         int          2\n",
      "signal         module       <module 'scipy.signal' fr<...>ipy/signal/__init__.pyc'>\n",
      "song_maak      list         n=0\n",
      "song_mask      list         n=0\n",
      "song_names     list         n=5\n",
      "songs          list         n=5\n",
      "sp             module       <module 'scipy' from '/ho<...>ages/scipy/__init__.pyc'>\n",
      "spects         list         n=5\n",
      "spikes         DataFrame            cluster  recordin<...>[667751 rows x 3 columns]\n",
      "start_time     Series       7      10223880\\n11     1<...>ime_samples, dtype: int64\n",
      "stim_ind       int          0\n",
      "stim_labels    list         n=5\n",
      "stim_loc       str          /home/AD/tsheehan/data/Pe<...>_B952_cat_P01_S01_1/stims\n",
      "stim_use       int          2\n",
      "these_trials   DataFrame        recording  time_sampl<...>4:03.164297       False  \n",
      "this_end       ndarray      20: 20 elems, type `int64`, 160 bytes\n",
      "this_label     unicode      G124-1 -1\n",
      "this_song      tuple        n=2\n",
      "this_st        ndarray      20: 20 elems, type `int64`, 160 bytes\n",
      "times          list         n=5\n",
      "tmp            ndarray      143154772: 143154772 elems, type `float64`, 1145238176 bytes (1092 Mb)\n",
      "trials         DataFrame        recording  time_sampl<...>\\n[100 rows x 10 columns]\n",
      "wf             module       <module 'scipy.io.wavfile<...>es/scipy/io/wavfile.pyc'>\n",
      "x              str          m_497_17_s1 -1.s2rx\n"
     ]
    }
   ],
   "source": [
    "whos\n"
   ]
  },
  {
   "cell_type": "code",
   "execution_count": 134,
   "metadata": {
    "collapsed": true
   },
   "outputs": [],
   "source": [
    "# test spectrogram and lpf\n",
    "from scipy.signal import decimate\n",
    "song = songs[0]\n",
    "\n",
    "# def butter_lowpass(cutoff, fs, order=5):\n",
    "#     nyq = 0.5 * fs\n",
    "#     normal_cutoff = cutoff / nyq\n",
    "#     b, a = butter(order, normal_cutoff, btype='low', analog=False)\n",
    "#     return b, a\n",
    "\n",
    "# def butter_lowpass_filter(data, cutoff, fs, order=5):\n",
    "#     b, a = butter_lowpass(cutoff, fs, order=order)\n",
    "#     y = lfilter(b, a, data)\n",
    "#     return y\n",
    "\n",
    "# # filtering \n",
    "# fs = 44100\n",
    "# cutoff = 24000\n",
    "# order = 2\n",
    "\n",
    "# b, a = butter_lowpass(cutoff, fs, order)\n",
    "fs = float(44100)\n",
    "fs_new = 24000\n",
    "\n",
    "\n",
    "song_d = decimate(song,2,zero_phase = True)\n",
    "fs_new = 44100/2\n",
    "f, t, ss = signal.spectrogram(song_d,fs = fs_new, nperseg = 128,noverlap = 64,nfft = 128)\n",
    "# remove DC component\n",
    "f = f[1:]\n",
    "ss = ss[1:,:]\n",
    "\n",
    "# convert to decibles, then average rows\n",
    "ss_D = 10*np.log10(ss)\n",
    "\n",
    "def windowed_avg_rows(dat,n_per_win=4):\n",
    "    n_rows = np.shape(dat)[0]\n",
    "    n_col = np.shape(dat)[1]\n",
    "    \n",
    "    st_points = np.arange(0,n_rows,n_per_win)\n",
    "    n_rows_new = len(st_points)\n",
    "    windowed_avg = np.zeros((n_rows_new, n_col))\n",
    "                          \n",
    "    for i in range(n_rows_new):\n",
    "        these_vals = dat[st_points[i]:st_points[i]+n_per_win,:]\n",
    "        windowed_avg[i,:] = np.mean(these_vals,0)\n",
    "    return windowed_avg\n",
    "                   \n",
    "def windowed_avg_col(dat,t,ms_per_win = 20):\n",
    "    t_per_win = ms_per_win/1000\n",
    "    val_per_win = int(round(t_per_win/period))\n",
    "    n_row = np.shape(dat)[0]\n",
    "    n_col = np.shape(dat)[1]\n",
    "    st_points = np.arange(0,n_col-val_per_win+1,val_per_win)\n",
    "    n_pts = len(st_points)\n",
    "    windowed_avg = np.zeros((n_row, n_pts))\n",
    "    \n",
    "    for i in range(n_pts):\n",
    "        these_vals = dat[:,st_points[i]:st_points[i]+val_per_win]\n",
    "        windowed_avg[:,i] = np.mean(these_vals,1)\n",
    "    t_new = t[st_points]\n",
    "    return windowed_avg, t_new\n",
    "\n",
    "def reduced_spectrogram(song,fs=44100):\n",
    "    song_d = decimate(song,2,zero_phase = True)\n",
    "    fs_new = fs/2\n",
    "    nperseg = 128\n",
    "    overlap = 64\n",
    "    nfft = 128\n",
    "    f, t, ss = signal.spectrogram(song_d,fs = fs_new, nperseg = 128,noverlap = 64,nfft = 128)\n",
    "    # remove DC component\n",
    "    f = f[1:]\n",
    "    ss = ss[1:,:]\n",
    "    ss_D = 10*np.log10(ss)\n",
    "    \n",
    "    ss_Df = windowed_avg_rows(ss_D)\n",
    "    ss_Dft, t_new = windowed_avg_col(ss_Df,t)\n",
    "    return ss_Dft\n",
    "\n",
    "    \n",
    "    \n",
    "\n",
    "#dat, t_new = windowed_avg_col(tmp,t)\n",
    "\n"
   ]
  },
  {
   "cell_type": "code",
   "execution_count": 133,
   "metadata": {},
   "outputs": [
    {
     "data": {
      "text/plain": [
       "array([ 0.00290249,  0.02321995,  0.04353741,  0.06385488,  0.08417234])"
      ]
     },
     "execution_count": 133,
     "metadata": {},
     "output_type": "execute_result"
    }
   ],
   "source": [
    "np.shape(dat)\n",
    "t_new[0:5]"
   ]
  },
  {
   "cell_type": "code",
   "execution_count": null,
   "metadata": {
    "collapsed": true
   },
   "outputs": [],
   "source": []
  }
 ],
 "metadata": {
  "kernelspec": {
   "display_name": "Python 2",
   "language": "python",
   "name": "python2"
  },
  "language_info": {
   "codemirror_mode": {
    "name": "ipython",
    "version": 2
   },
   "file_extension": ".py",
   "mimetype": "text/x-python",
   "name": "python",
   "nbconvert_exporter": "python",
   "pygments_lexer": "ipython2",
   "version": "2.7.14"
  }
 },
 "nbformat": 4,
 "nbformat_minor": 2
}
