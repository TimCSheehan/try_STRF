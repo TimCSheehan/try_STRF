{
 "cells": [
  {
   "cell_type": "code",
   "execution_count": 1,
   "metadata": {
    "collapsed": true
   },
   "outputs": [],
   "source": [
    "import numpy as np\n",
    "#import seaborn as sns\n",
    "import matplotlib.pyplot as plt\n",
    "import matplotlib\n",
    "%matplotlib inline\n",
    "block_path = '/home/AD/tsheehan/data/Pen01_Lft_AP750_ML1750__Site01_Z1100__B952_cat_P01_S01_1'\n",
    "from ephys import core\n",
    "from ephys import clust\n",
    "from ephys import events\n",
    "from ephys import rasters\n",
    "import os\n",
    "import scipy as sp\n",
    "import scipy.io.wavfile as wf\n",
    "import scipy.signal as signal\n",
    "#import pywt # wavelet toolbox"
   ]
  },
  {
   "cell_type": "code",
   "execution_count": 2,
   "metadata": {
    "collapsed": true
   },
   "outputs": [],
   "source": [
    "font = {'family' : 'normal',\n",
    "        'weight' : 'bold',\n",
    "        'size'   : 22}\n",
    "\n",
    "matplotlib.rc('font', **font)"
   ]
  },
  {
   "cell_type": "code",
   "execution_count": 3,
   "metadata": {
    "collapsed": true
   },
   "outputs": [],
   "source": [
    "# want to get STA and STC for example dataset\n",
    "# load response (neurons), stimulus (wav files to spectrograms)\n",
    "clusters = core.load_clusters(block_path) # pandas - DataFrame\n",
    "neurons = (\n",
    "    clusters[clusters.quality.isin(['Good'])]\n",
    "    .sort_values(['quality','cluster'],ascending=False)\n",
    "    .reset_index()\n",
    ")\n",
    "trials = events.load_trials(block_path)\n",
    "stim_labels = list(set(trials.stimulus))\n",
    "spikes = core.load_spikes(block_path)\n"
   ]
  },
  {
   "cell_type": "code",
   "execution_count": 4,
   "metadata": {},
   "outputs": [
    {
     "name": "stdout",
     "output_type": "stream",
     "text": [
      "2892045\n",
      "2961304\n",
      "2674358\n",
      "2400000\n",
      "2400000\n"
     ]
    }
   ],
   "source": [
    "fs = 44100\n",
    "stim_labels[0]\n",
    "stim_loc = block_path + '/stims'\n",
    "files = os.listdir(stim_loc)\n",
    "songs = []\n",
    "spects = []\n",
    "freqs = []\n",
    "times = []\n",
    "noverlap = 512\n",
    "nperseg = 1024\n",
    "\n",
    "for i in range(len(stim_labels)):\n",
    "    this_label = stim_labels[i] +'.wav'\n",
    "    my_song = [x for x in files if x in this_label]\n",
    "    if my_song:\n",
    "        this_song = wf.read(stim_loc + '/' + my_song[0])\n",
    "        songs.append((this_song[1]))    \n",
    "    \n",
    "    my_spect = signal.spectrogram(songs[i],fs =fs, nperseg = nperseg,noverlap = noverlap)\n",
    "    spects.append(my_spect[2])\n",
    "    freqs.append(my_spect[0])\n",
    "    times.append(my_spect[1])\n",
    "    \n",
    "    print(len(this_song[1]))"
   ]
  },
  {
   "cell_type": "code",
   "execution_count": 286,
   "metadata": {
    "scrolled": true
   },
   "outputs": [],
   "source": [
    "import get_STA\n",
    "reload(get_STA)\n",
    "stim_use = 2\n",
    "neuron_ind = 12\n",
    "this_label = stim_labels[stim_use]\n",
    "these_trials = trials[trials['stimulus']==this_label]\n",
    "this_st = these_trials['time_samples'].values\n",
    "this_end = these_trials['stimulus_end'].values\n",
    "dd = this_end-this_st\n",
    "\n",
    "my_cluster = neurons['cluster'][neuron_ind]\n",
    "my_spikes = spikes[spikes['cluster']==my_cluster]\n",
    "my_times = my_spikes['time_samples']\n",
    "\n",
    "#get_STA_p.get_STA_from_points(my_times,this_end,dd[0],songs[stim_use],50)\n",
    "#tmp  = get_STA_p.get_STA_mult_song(my_times,songs,trials)\n",
    "#get_STA_p.plot_STA_mult_song(my_times,songs,trials,[],1)\n",
    "\n",
    "#get_STA_p.plot_STA_mult_neuron(neurons,spikes,songs,trials,40)\n",
    "s_view = 2\n",
    "c_lim = (-60,60)\n",
    "#get_STA_p.visualize_reduced_spectrogram(songs[s_view],c_lim)\n",
    "#get_STA_p.visualize_full_spectrogram(songs[s_view],c_lim)\n",
    "#ratio = get_STA_p.get_ds_rate(songs)\n",
    "spk_times = my_spikes['time_samples'].values\n"
   ]
  },
  {
   "cell_type": "code",
   "execution_count": 278,
   "metadata": {},
   "outputs": [
    {
     "data": {
      "text/plain": [
       "<matplotlib.image.AxesImage at 0x7ff9d34ac510>"
      ]
     },
     "execution_count": 278,
     "metadata": {},
     "output_type": "execute_result"
    },
    {
     "data": {
      "image/png": "[encoded data removed]",
      "text/plain": [
       "<matplotlib.figure.Figure at 0x7ff9d3900710>"
      ]
     },
     "metadata": {},
     "output_type": "display_data"
    }
   ],
   "source": [
    " \n",
    "song_names = list(set(trials['stimulus']))\n",
    "song_mask, song_ramp = get_STA_p.get_song_mask(trials,ratio)\n",
    "\n",
    "\n",
    "STA,f = get_STA.get_sta(spk_times,songs,song_mask,song_ramp,20)\n",
    "mSTA = np.mean(STA,0)\n",
    "plt.imshow(mSTA)"
   ]
  },
  {
   "cell_type": "code",
   "execution_count": 279,
   "metadata": {},
   "outputs": [
    {
     "data": {
      "image/png": "[encoded data removed]",
      "text/plain": [
       "<matplotlib.figure.Figure at 0x7ff9cb4ebc90>"
      ]
     },
     "metadata": {},
     "output_type": "display_data"
    }
   ],
   "source": [
    "get_STA.visualize_some_stas(neurons,spikes,songs,song_mask,song_ramp,20)\n"
   ]
  },
  {
   "cell_type": "code",
   "execution_count": 319,
   "metadata": {},
   "outputs": [
    {
     "name": "stdout",
     "output_type": "stream",
     "text": [
      "1613\n"
     ]
    }
   ],
   "source": [
    "# make PSTH\n",
    "import get_STA\n",
    "reload(get_STA)\n",
    "song_use = 0\n",
    "# this_ind = song_mask==song_use+1\n",
    "# this_t = song_ramp[this_ind]\n",
    "# plt.hist(this_t)\n",
    "tmp = get_STA.get_PSTH(spk_times,song_use,song_mask,song_ramp)\n",
    "#plt.hist(tmp)\n"
   ]
  },
  {
   "cell_type": "code",
   "execution_count": 321,
   "metadata": {},
   "outputs": [
    {
     "data": {
      "text/plain": [
       "[<matplotlib.lines.Line2D at 0x7ff9d2ccd490>]"
      ]
     },
     "execution_count": 321,
     "metadata": {},
     "output_type": "execute_result"
    },
    {
     "data": {
      "image/png": "[encoded data removed]",
      "text/plain": [
       "<matplotlib.figure.Figure at 0x7ff9d2dc1550>"
      ]
     },
     "metadata": {},
     "output_type": "display_data"
    }
   ],
   "source": [
    "plt.plot(tmp)"
   ]
  },
  {
   "cell_type": "code",
   "execution_count": null,
   "metadata": {
    "collapsed": true
   },
   "outputs": [],
   "source": []
  }
 ],
 "metadata": {
  "kernelspec": {
   "display_name": "Python 2",
   "language": "python",
   "name": "python2"
  },
  "language_info": {
   "codemirror_mode": {
    "name": "ipython",
    "version": 2
   },
   "file_extension": ".py",
   "mimetype": "text/x-python",
   "name": "python",
   "nbconvert_exporter": "python",
   "pygments_lexer": "ipython2",
   "version": "2.7.14"
  }
 },
 "nbformat": 4,
 "nbformat_minor": 2
}
